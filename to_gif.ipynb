{
 "cells": [
  {
   "cell_type": "code",
   "execution_count": 6,
   "metadata": {},
   "outputs": [
    {
     "name": "stdout",
     "output_type": "stream",
     "text": [
      "finish: output_video.gif\n"
     ]
    }
   ],
   "source": [
    "import imageio\n",
    "\n",
    "video_path = 'output_video.mp4.'\n",
    "gif_path = 'output_video.gif'\n",
    "\n",
    "with imageio.get_reader(video_path, 'ffmpeg') as reader:\n",
    "    frames = [frame for frame in reader]\n",
    "    imageio.mimsave(gif_path, frames, 'GIF', fps=12)  \n",
    "print(f\"finish: {gif_path}\")\n"
   ]
  },
  {
   "cell_type": "markdown",
   "metadata": {},
   "source": [
    " <img src=\"output_video.gif\" style=\"width: 300px; height: 300px;\">\n"
   ]
  },
  {
   "cell_type": "code",
   "execution_count": null,
   "metadata": {},
   "outputs": [],
   "source": []
  }
 ],
 "metadata": {
  "kernelspec": {
   "display_name": "tensorflow_env",
   "language": "python",
   "name": "python3"
  },
  "language_info": {
   "codemirror_mode": {
    "name": "ipython",
    "version": 3
   },
   "file_extension": ".py",
   "mimetype": "text/x-python",
   "name": "python",
   "nbconvert_exporter": "python",
   "pygments_lexer": "ipython3",
   "version": "3.10.13"
  }
 },
 "nbformat": 4,
 "nbformat_minor": 2
}
